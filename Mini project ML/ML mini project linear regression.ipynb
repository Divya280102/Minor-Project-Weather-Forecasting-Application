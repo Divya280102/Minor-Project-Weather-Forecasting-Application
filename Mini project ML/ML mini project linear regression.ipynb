{
 "cells": [
  {
   "cell_type": "code",
   "execution_count": 1,
   "id": "4b996bc6",
   "metadata": {},
   "outputs": [],
   "source": [
    "import pandas as pd\n",
    "import numpy as np\n",
    "import matplotlib.pyplot as plt\n",
    "from sklearn.model_selection import train_test_split"
   ]
  },
  {
   "cell_type": "code",
   "execution_count": 2,
   "id": "f34fef6d",
   "metadata": {},
   "outputs": [],
   "source": [
    "states=[\"Andhra Pradesh\",\"Haryana\",\"himachal pradesh\",\"manipur\"]"
   ]
  },
  {
   "cell_type": "code",
   "execution_count": 3,
   "id": "e55315b7",
   "metadata": {},
   "outputs": [],
   "source": [
    "# for i in states:\n",
    "#     print(\"For state \",i)\n",
    "#     df = pd.read_csv(f\"{i} last30days.csv\") \n",
    "#     print(df.head())"
   ]
  },
  {
   "cell_type": "code",
   "execution_count": null,
   "id": "78073994",
   "metadata": {},
   "outputs": [
    {
     "name": "stdout",
     "output_type": "stream",
     "text": [
      "For state  Andhra Pradesh\n",
      "             name    datetime  tempmax  tempmin  temp  feelslikemax  \\\n",
      "0  Andhra Pradesh  2022-10-13     32.0     23.5  28.2          38.7   \n",
      "1  Andhra Pradesh  2022-10-14     30.0     23.8  26.5          38.8   \n",
      "2  Andhra Pradesh  2022-10-15     28.1     23.3  25.8          32.8   \n",
      "3  Andhra Pradesh  2022-10-16     31.1     23.0  27.3          39.1   \n",
      "4  Andhra Pradesh  2022-10-17     32.0     23.4  28.2          39.2   \n",
      "\n",
      "   feelslikemin  feelslike   dew  humidity  ...  solarenergy  uvindex  \\\n",
      "0          23.5       32.2  24.7      82.3  ...         22.4        9   \n",
      "1          23.8       29.4  24.8      90.1  ...         15.8        8   \n",
      "2          23.3       27.5  24.4      91.7  ...          8.8        5   \n",
      "3          23.0       31.1  25.0      87.8  ...         19.6        8   \n",
      "4          23.4       32.7  24.8      82.7  ...         21.2        9   \n",
      "\n",
      "   severerisk              sunrise               sunset  moonphase  \\\n",
      "0          75  2022-10-13T05:59:25  2022-10-13T17:47:53       0.57   \n",
      "1          60  2022-10-14T05:59:38  2022-10-14T17:47:12       0.61   \n",
      "2          30  2022-10-15T05:59:51  2022-10-15T17:46:31       0.65   \n",
      "3          60  2022-10-16T06:00:04  2022-10-16T17:45:51       0.70   \n",
      "4          75  2022-10-17T06:00:18  2022-10-17T17:45:12       0.74   \n",
      "\n",
      "               conditions                                        description  \\\n",
      "0  Rain, Partially cloudy        Partly cloudy throughout the day with rain.   \n",
      "1  Rain, Partially cloudy  Partly cloudy throughout the day with a chance...   \n",
      "2  Rain, Partially cloudy        Partly cloudy throughout the day with rain.   \n",
      "3  Rain, Partially cloudy  Partly cloudy throughout the day with early mo...   \n",
      "4  Rain, Partially cloudy  Partly cloudy throughout the day with early mo...   \n",
      "\n",
      "   icon                                           stations  \n",
      "0  rain  43185099999,VOBZ,43220099999,43182099999,remot...  \n",
      "1  rain  43185099999,VOBZ,43220099999,43182099999,remot...  \n",
      "2  rain  43185099999,VOBZ,43220099999,43182099999,remot...  \n",
      "3  rain  43185099999,VOBZ,43220099999,43182099999,remot...  \n",
      "4  rain  43185099999,VOBZ,43220099999,43182099999,remot...  \n",
      "\n",
      "[5 rows x 33 columns]\n",
      "             name    datetime  tempmax  tempmin  temp  feelslikemax  \\\n",
      "0  Andhra Pradesh  2022-10-13     32.0     23.5  28.2          38.7   \n",
      "1  Andhra Pradesh  2022-10-14     30.0     23.8  26.5          38.8   \n",
      "2  Andhra Pradesh  2022-10-15     28.1     23.3  25.8          32.8   \n",
      "3  Andhra Pradesh  2022-10-16     31.1     23.0  27.3          39.1   \n",
      "4  Andhra Pradesh  2022-10-17     32.0     23.4  28.2          39.2   \n",
      "\n",
      "   feelslikemin  feelslike   dew  humidity  ...  solarenergy  uvindex  \\\n",
      "0          23.5       32.2  24.7      82.3  ...         22.4        9   \n",
      "1          23.8       29.4  24.8      90.1  ...         15.8        8   \n",
      "2          23.3       27.5  24.4      91.7  ...          8.8        5   \n",
      "3          23.0       31.1  25.0      87.8  ...         19.6        8   \n",
      "4          23.4       32.7  24.8      82.7  ...         21.2        9   \n",
      "\n",
      "   severerisk              sunrise               sunset  moonphase  \\\n",
      "0          75  2022-10-13T05:59:25  2022-10-13T17:47:53       0.57   \n",
      "1          60  2022-10-14T05:59:38  2022-10-14T17:47:12       0.61   \n",
      "2          30  2022-10-15T05:59:51  2022-10-15T17:46:31       0.65   \n",
      "3          60  2022-10-16T06:00:04  2022-10-16T17:45:51       0.70   \n",
      "4          75  2022-10-17T06:00:18  2022-10-17T17:45:12       0.74   \n",
      "\n",
      "               conditions                                        description  \\\n",
      "0  Rain, Partially cloudy        Partly cloudy throughout the day with rain.   \n",
      "1  Rain, Partially cloudy  Partly cloudy throughout the day with a chance...   \n",
      "2  Rain, Partially cloudy        Partly cloudy throughout the day with rain.   \n",
      "3  Rain, Partially cloudy  Partly cloudy throughout the day with early mo...   \n",
      "4  Rain, Partially cloudy  Partly cloudy throughout the day with early mo...   \n",
      "\n",
      "   icon                                           stations  \n",
      "0     1  43185099999,VOBZ,43220099999,43182099999,remot...  \n",
      "1     1  43185099999,VOBZ,43220099999,43182099999,remot...  \n",
      "2     1  43185099999,VOBZ,43220099999,43182099999,remot...  \n",
      "3     1  43185099999,VOBZ,43220099999,43182099999,remot...  \n",
      "4     1  43185099999,VOBZ,43220099999,43182099999,remot...  \n",
      "\n",
      "[5 rows x 33 columns]\n",
      "0     1.0\n",
      "1     1.0\n",
      "2     1.0\n",
      "3     1.0\n",
      "4     1.0\n",
      "5     1.0\n",
      "6     1.0\n",
      "7     1.0\n",
      "8     1.0\n",
      "9       0\n",
      "10      0\n",
      "11      0\n",
      "12      0\n",
      "13      0\n",
      "14    1.0\n",
      "15    1.0\n",
      "16    1.0\n",
      "17      0\n",
      "18    1.0\n",
      "19    1.0\n",
      "20    1.0\n",
      "21    1.0\n",
      "22    1.0\n",
      "23    1.0\n",
      "24      0\n",
      "25      0\n",
      "26      0\n",
      "27      0\n",
      "28      0\n",
      "29      0\n",
      "30      0\n",
      "Name: preciptype, dtype: object\n",
      "20.110352934625364 %\n",
      "72.18152886931149 %\n",
      "For state  Andhra Pradesh\n",
      "Enter today's solar radiation : 259.8\n",
      "Enter today's solar energy : 22.4\n",
      "Enter today's humidity : 82.3\n",
      "Enter today's dew : 24.7\n",
      "Maximum Temerature of today is : 32.28642285525955\n",
      "72.49849238988655 %\n",
      "86.64418118395389 %\n",
      "Minimum temperature of today is : 23.579546007348444\n",
      "73.34162415806775 %\n",
      "98.01403654686752 %\n",
      "The commonly observe temperature is :  28.23226562858949\n",
      "['2022-11-09', '2022-11-10', '2022-11-11', '2022-11-12']\n",
      "<class 'list'>\n",
      "<class 'str'>\n",
      "['2022-11-09', '2022-11-10', '2022-11-11', '2022-11-12', '2022-11-22']\n",
      "[26.5, 26.6, 26.6, 26.8]\n",
      "<class 'list'>\n",
      "The temperature is :  28.23226562858949\n",
      "[26.5, 26.6, 26.6, 26.8, 28.23226562858949]\n"
     ]
    },
    {
     "name": "stderr",
     "output_type": "stream",
     "text": [
      "C:\\Users\\Lenovo\\anaconda3\\lib\\site-packages\\sklearn\\base.py:450: UserWarning: X does not have valid feature names, but LinearRegression was fitted with feature names\n",
      "  warnings.warn(\n",
      "C:\\Users\\Lenovo\\anaconda3\\lib\\site-packages\\sklearn\\base.py:450: UserWarning: X does not have valid feature names, but LinearRegression was fitted with feature names\n",
      "  warnings.warn(\n",
      "C:\\Users\\Lenovo\\anaconda3\\lib\\site-packages\\sklearn\\base.py:450: UserWarning: X does not have valid feature names, but LinearRegression was fitted with feature names\n",
      "  warnings.warn(\n"
     ]
    },
    {
     "data": {
      "image/png": "[encoded data removed]",
      "text/plain": [
       "<Figure size 800x500 with 1 Axes>"
      ]
     },
     "metadata": {},
     "output_type": "display_data"
    },
    {
     "name": "stdout",
     "output_type": "stream",
     "text": [
      "             name    datetime  precip  tempmax  tempmin  temp  windspeed  \\\n",
      "0  Andhra Pradesh  2022-10-13   1.500     32.0     23.5  28.2        9.4   \n",
      "1  Andhra Pradesh  2022-10-14  30.813     30.0     23.8  26.5        9.4   \n",
      "2  Andhra Pradesh  2022-10-15  22.096     28.1     23.3  25.8       11.2   \n",
      "3  Andhra Pradesh  2022-10-16  16.729     31.1     23.0  27.3       13.0   \n",
      "4  Andhra Pradesh  2022-10-17   0.108     32.0     23.4  28.2       11.2   \n",
      "\n",
      "    dew  humidity  windgust preciptype  visibility  solarradiation  \\\n",
      "0  24.7      82.3      13.3        1.0         9.5           259.8   \n",
      "1  24.8      90.1      17.3        1.0         8.7           183.5   \n",
      "2  24.4      91.7      29.5        1.0         8.2           104.3   \n",
      "3  25.0      87.8      24.5        1.0         9.1           229.8   \n",
      "4  24.8      82.7      18.0        1.0         9.6           246.0   \n",
      "\n",
      "   solarenergy  uvindex              sunrise               sunset  \\\n",
      "0         22.4        9  2022-10-13T05:59:25  2022-10-13T17:47:53   \n",
      "1         15.8        8  2022-10-14T05:59:38  2022-10-14T17:47:12   \n",
      "2          8.8        5  2022-10-15T05:59:51  2022-10-15T17:46:31   \n",
      "3         19.6        8  2022-10-16T06:00:04  2022-10-16T17:45:51   \n",
      "4         21.2        9  2022-10-17T06:00:18  2022-10-17T17:45:12   \n",
      "\n",
      "               conditions  \n",
      "0  Rain, Partially cloudy  \n",
      "1  Rain, Partially cloudy  \n",
      "2  Rain, Partially cloudy  \n",
      "3  Rain, Partially cloudy  \n",
      "4  Rain, Partially cloudy  \n",
      "-82.41176868262403 %\n",
      "Train data score :  11.85853541201043 %\n",
      "Enter the windgust : 13.3\n",
      "32.99197680122009\n",
      "(24, 7)\n",
      "(24,)\n",
      "Test data score :  63.09583300688022 %\n",
      "Train data score :  65.88059794518809 %\n",
      "3.970037630269827\n",
      "4\n",
      "Rain, Overcast\n",
      "['Partially cloudy', 'Partially cloudy', 'Partially cloudy', 'Partially cloudy']\n",
      "<class 'list'>\n",
      "Rain, Overcast\n",
      "['Partially cloudy', 'Partially cloudy', 'Partially cloudy', 'Partially cloudy', 'Rain, Overcast']\n"
     ]
    },
    {
     "name": "stderr",
     "output_type": "stream",
     "text": [
      "C:\\Users\\Lenovo\\anaconda3\\lib\\site-packages\\sklearn\\base.py:450: UserWarning: X does not have valid feature names, but LinearRegression was fitted with feature names\n",
      "  warnings.warn(\n",
      "C:\\Users\\Lenovo\\anaconda3\\lib\\site-packages\\sklearn\\base.py:450: UserWarning: X does not have valid feature names, but LinearRegression was fitted with feature names\n",
      "  warnings.warn(\n"
     ]
    },
    {
     "data": {
      "image/png": "[encoded data removed]",
      "text/plain": [
       "<Figure size 700x200 with 1 Axes>"
      ]
     },
     "metadata": {},
     "output_type": "display_data"
    },
    {
     "name": "stdout",
     "output_type": "stream",
     "text": [
      "For state  Haryana\n",
      "      name    datetime  tempmax  tempmin  temp  feelslikemax  feelslikemin  \\\n",
      "0  haryana  13-10-2022     32.1     20.8  25.4          31.4          20.8   \n",
      "1  haryana  14-10-2022     30.5     21.0  25.4          31.5          21.0   \n",
      "2  haryana  15-10-2022     32.0     21.0  25.8          31.6          21.0   \n",
      "3  haryana  16-10-2022     32.0     21.3  26.6          31.9          21.3   \n",
      "4  haryana  17-10-2022     31.3     22.0  26.6          31.4          22.0   \n",
      "\n",
      "   feelslike   dew  humidity  ...  solarenergy  uvindex  severerisk  \\\n",
      "0       25.6  19.3      72.1  ...         18.4        8          10   \n",
      "1       25.7  19.4      71.5  ...         18.6        8          10   \n",
      "2       26.1  19.1      69.6  ...         18.6        8          10   \n",
      "3       26.7  17.3      59.4  ...         18.1        8          10   \n",
      "4       26.6  16.1      55.2  ...         18.1        8          10   \n",
      "\n",
      "               sunrise               sunset  moonphase  conditions  \\\n",
      "0  2022-10-13T06:19:59  2022-10-13T17:53:45       0.57       Clear   \n",
      "1  2022-10-14T06:20:34  2022-10-14T17:52:41       0.61       Clear   \n",
      "2  2022-10-15T06:21:09  2022-10-15T17:51:39       0.65       Clear   \n",
      "3  2022-10-16T06:21:45  2022-10-16T17:50:37       0.70       Clear   \n",
      "4  2022-10-17T06:22:21  2022-10-17T17:49:35       0.74       Clear   \n",
      "\n",
      "                            description       icon  \\\n",
      "0  Clear conditions throughout the day.  clear-day   \n",
      "1  Clear conditions throughout the day.  clear-day   \n",
      "2  Clear conditions throughout the day.  clear-day   \n",
      "3  Clear conditions throughout the day.  clear-day   \n",
      "4  Clear conditions throughout the day.  clear-day   \n",
      "\n",
      "                                            stations  \n",
      "0  42182099999,VIDP,42139099999,42181099999,VIDD,...  \n",
      "1           42182099999,VIDP,42139099999,42181099999  \n",
      "2           42182099999,VIDP,42139099999,42181099999  \n",
      "3    42182099999,VIDP,42139099999,42181099999,remote  \n",
      "4  42182099999,VIDP,42139099999,42181099999,VIDD,...  \n",
      "\n",
      "[5 rows x 33 columns]\n",
      "      name    datetime  tempmax  tempmin  temp  feelslikemax  feelslikemin  \\\n",
      "0  haryana  13-10-2022     32.1     20.8  25.4          31.4          20.8   \n",
      "1  haryana  14-10-2022     30.5     21.0  25.4          31.5          21.0   \n",
      "2  haryana  15-10-2022     32.0     21.0  25.8          31.6          21.0   \n",
      "3  haryana  16-10-2022     32.0     21.3  26.6          31.9          21.3   \n",
      "4  haryana  17-10-2022     31.3     22.0  26.6          31.4          22.0   \n",
      "\n",
      "   feelslike   dew  humidity  ...  solarenergy  uvindex  severerisk  \\\n",
      "0       25.6  19.3      72.1  ...         18.4        8          10   \n",
      "1       25.7  19.4      71.5  ...         18.6        8          10   \n",
      "2       26.1  19.1      69.6  ...         18.6        8          10   \n",
      "3       26.7  17.3      59.4  ...         18.1        8          10   \n",
      "4       26.6  16.1      55.2  ...         18.1        8          10   \n",
      "\n",
      "               sunrise               sunset  moonphase  conditions  \\\n",
      "0  2022-10-13T06:19:59  2022-10-13T17:53:45       0.57       Clear   \n",
      "1  2022-10-14T06:20:34  2022-10-14T17:52:41       0.61       Clear   \n",
      "2  2022-10-15T06:21:09  2022-10-15T17:51:39       0.65       Clear   \n",
      "3  2022-10-16T06:21:45  2022-10-16T17:50:37       0.70       Clear   \n",
      "4  2022-10-17T06:22:21  2022-10-17T17:49:35       0.74       Clear   \n",
      "\n",
      "                            description       icon  \\\n",
      "0  Clear conditions throughout the day.  clear-day   \n",
      "1  Clear conditions throughout the day.  clear-day   \n",
      "2  Clear conditions throughout the day.  clear-day   \n",
      "3  Clear conditions throughout the day.  clear-day   \n",
      "4  Clear conditions throughout the day.  clear-day   \n",
      "\n",
      "                                            stations  \n",
      "0  42182099999,VIDP,42139099999,42181099999,VIDD,...  \n",
      "1           42182099999,VIDP,42139099999,42181099999  \n",
      "2           42182099999,VIDP,42139099999,42181099999  \n",
      "3    42182099999,VIDP,42139099999,42181099999,remote  \n",
      "4  42182099999,VIDP,42139099999,42181099999,VIDD,...  \n",
      "\n",
      "[5 rows x 33 columns]\n",
      "0       0\n",
      "1       0\n",
      "2       0\n",
      "3       0\n",
      "4       0\n",
      "5       0\n",
      "6       0\n",
      "7       0\n",
      "8       0\n",
      "9       0\n",
      "10      0\n",
      "11      0\n",
      "12      0\n",
      "13      0\n",
      "14      0\n",
      "15      0\n",
      "16      0\n",
      "17      0\n",
      "18      0\n",
      "19      0\n",
      "20      0\n",
      "21      0\n",
      "22      0\n",
      "23      0\n",
      "24      0\n",
      "25      0\n",
      "26      0\n",
      "27      0\n",
      "28    1.0\n",
      "29      0\n",
      "30      0\n",
      "Name: preciptype, dtype: object\n",
      "68.42475148898154 %\n",
      "81.6330737295629 %\n",
      "For state  Haryana\n"
     ]
    }
   ],
   "source": [
    "for i in states:\n",
    "    print(\"For state \",i)\n",
    "    df = pd.read_csv(f\"{i} last30days.csv\") \n",
    "    print(df.head())\n",
    "    df=df.replace('rain',1)\n",
    "    df[\"preciptype\"].fillna(\"0\", inplace = True)\n",
    "    print(df.head())\n",
    "    print(df['preciptype'])\n",
    "    df = df[[\"name\",\"datetime\",\"precip\",\"tempmax\",\"tempmin\",\"temp\",\"windspeed\",\"dew\",\"humidity\",\"windgust\",\"preciptype\",\n",
    "         \"visibility\",\"solarradiation\",\"solarenergy\",\"uvindex\",\"sunrise\",\"sunset\",\"conditions\"]]\n",
    "    df.head()\n",
    "    len = df.shape[0] \n",
    "    col_names = ['solarradiation','solarenergy','humidity','dew']\n",
    "    df_temp_x=df.loc[:,col_names]\n",
    "    df_temp_y1=df['tempmax']\n",
    "    df_temp_y2=df['tempmin']\n",
    "    df_temp_y3=df['temp']\n",
    "    train_X,test_X,train_y,test_y=train_test_split(df_temp_x,df_temp_y1,test_size=0.2,random_state=4)\n",
    "    from sklearn.linear_model import LinearRegression\n",
    "    model = LinearRegression()\n",
    "    model.fit(train_X,train_y)\n",
    "    from sklearn.metrics import r2_score\n",
    "    r2_a_score = model.score(test_X,test_y)\n",
    "    print(r2_a_score*100,'%')\n",
    "    r2_a_score = model.score(train_X,train_y)\n",
    "    print(r2_a_score*100,'%')\n",
    "    print(\"For state \",i)\n",
    "    solar_rad=float(input(\"Enter today's solar radiation : \"))\n",
    "    solar_ene=float(input(\"Enter today's solar energy : \"))\n",
    "    humidity=float(input(\"Enter today's humidity : \"))\n",
    "    dew=float(input(\"Enter today's dew : \"))\n",
    "    Max_temp=model.predict([[solar_rad,solar_ene,humidity,dew]])[0]\n",
    "    print(\"Maximum Temerature of today is :\",Max_temp)\n",
    "    train_X,test_X,train_y,test_y=train_test_split(df_temp_x,df_temp_y2,test_size=0.2,random_state=4)\n",
    "    model.fit(train_X,train_y)\n",
    "    r2_a_score = model.score(test_X,test_y)\n",
    "    print(r2_a_score*100,'%')\n",
    "    r2_a_score = model.score(train_X,train_y)\n",
    "    print(r2_a_score*100,'%')\n",
    "    Min_temp=model.predict([[solar_rad,solar_ene,humidity,dew]])[0]\n",
    "    print(\"Minimum temperature of today is :\",Min_temp)\n",
    "    train_X,test_X,train_y,test_y=train_test_split(df_temp_x,df_temp_y3,test_size=0.2,random_state=4)\n",
    "    model.fit(train_X,train_y)\n",
    "    r2_a_score = model.score(test_X,test_y)\n",
    "    print(r2_a_score*100,'%')\n",
    "    r2_a_score = model.score(train_X,train_y)\n",
    "    print(r2_a_score*100,'%')\n",
    "    temp=model.predict([[solar_rad,solar_ene,humidity,dew]])[0]\n",
    "    print(\"The commonly observe temperature is : \",temp)\n",
    "    x=df.loc[len-4:,'datetime'].values.tolist()\n",
    "    print(x)\n",
    "    print(type(x))\n",
    "    print(type(x[0]))\n",
    "    from datetime import date\n",
    "    Today=date.today()\n",
    "    x.append(Today.strftime(\"%Y-%m-%d\"))\n",
    "    print(x)\n",
    "    y=df.loc[27:,'temp'].values.tolist()\n",
    "    print(y)\n",
    "    print(type(y))\n",
    "    temp=float(temp)\n",
    "    print(\"The temperature is : \",temp)\n",
    "    y.append(temp)\n",
    "    print(y)\n",
    "    plt.figure(figsize=(8, 5))\n",
    "    plt.plot(x,y,marker='o',mec='r',mfc='r',linestyle='--',linewidth=2,\n",
    "         markersize=6,label=\"Temp Line\")\n",
    "    plt.title(\"Temperature Plot With Time\",fontsize=18)\n",
    "    plt.xlabel(\"Date\",fontsize=14)\n",
    "    plt.ylabel(\"Temperature\",fontsize=14)\n",
    "    plt.savefig(f'{i}.png', bbox_inches='tight')\n",
    "    plt.show()\n",
    "    print(df.head())\n",
    "\n",
    "    col_names = ['windgust','dew']\n",
    "    df_temp_x=df.loc[:,col_names]\n",
    "    df_temp_y1=df['tempmax']\n",
    "    from sklearn.model_selection import train_test_split\n",
    "    train_X,test_X,train_y,test_y=train_test_split(df_temp_x,df_temp_y1,test_size=0.2,random_state=4)\n",
    "    from sklearn.linear_model import LinearRegression\n",
    "    model = LinearRegression()\n",
    "    model.fit(train_X,train_y)\n",
    "    r2_a_score = model.score(test_X,test_y)\n",
    "    print(r2_a_score*100,'%')\n",
    "    r2_a_score = model.score(train_X,train_y)\n",
    "    print(\"Train data score : \",r2_a_score*100,'%')\n",
    "    windgust=float(input('Enter the windgust : '))\n",
    "    wind_speed=model.predict([[dew,windgust]])[0]\n",
    "    print(wind_speed)\n",
    "    \n",
    "    df.replace(to_replace =\"Clear\", value = 1, inplace = True)\n",
    "    df.replace(to_replace =\"Partially cloudy\", value = 2, inplace = True)\n",
    "    df.replace(to_replace =\"Rain, Partially cloudy\", value = 3, inplace = True)\n",
    "    df.replace(to_replace =\"Rain\", value = 4, inplace = True)\n",
    "    df.replace(to_replace =\"Rain, Overcast\", value = 5, inplace = True)\n",
    "    col_names = ['temp','humidity','dew','windspeed','windgust','solarradiation','solarenergy']\n",
    "    df_x=df.loc[:,col_names]\n",
    "    df_y=df['conditions']\n",
    "    train_X,test_X,train_y,test_y=train_test_split(df_x,df_y,test_size=0.2,random_state=4)\n",
    "    model = LinearRegression()\n",
    "    model.fit(train_X,train_y)\n",
    "    print(train_X.shape)\n",
    "    print(train_y.shape)\n",
    "    from sklearn.metrics import r2_score\n",
    "    r2_a_score = model.score(test_X,test_y)\n",
    "    print(\"Test data score : \",r2_a_score*100,'%')\n",
    "    r2_a_score = model.score(train_X,train_y)\n",
    "    print(\"Train data score : \",r2_a_score*100,'%')\n",
    "    cond=model.predict([[temp,humidity,dew,wind_speed,windgust,solar_rad,solar_ene]])[0]\n",
    "    print(cond)\n",
    "    cond=round(cond)\n",
    "    print(cond)\n",
    "    if(cond<1):\n",
    "        cond=1\n",
    "    if(cond>4):\n",
    "        cond=4\n",
    "    if(cond==1):\n",
    "        cond=\"Clear\"\n",
    "    elif(cond==2):\n",
    "        cond=\"Partially cloudy\"\n",
    "    elif(cond==3):    \n",
    "        cond=\"Rain, Partially cloudy\"\n",
    "    else:\n",
    "        cond=\"Rain, Overcast\"\n",
    "    print(cond)\n",
    "\n",
    "    df.replace(to_replace =1, value = \"Clear\", inplace = True)\n",
    "    df.replace(to_replace =2, value = \"Partially cloudy\", inplace = True)\n",
    "    df.replace(to_replace =3, value = \"Rain, Partially cloudy\", inplace = True)\n",
    "    df.replace(to_replace =4, value = \"Rain, Overcast\", inplace = True)\n",
    "    y=df.loc[len-4:,'conditions'].values.tolist()\n",
    "    print(y)\n",
    "    print(type(y))\n",
    "    print(cond)\n",
    "    y.append(cond)\n",
    "    print(y)\n",
    "    plt.figure(figsize=(7, 2))\n",
    "    plt.plot(x,y,marker='o',mec='r',mfc='r',linestyle='--',linewidth=2,\n",
    "             markersize=6,label=\"Temp Line\")\n",
    "    plt.title(\"Condition Plot With Time\",fontsize=18)\n",
    "    plt.xlabel(\"Date\",fontsize=14)\n",
    "    plt.ylabel(\"Condition\",fontsize=14)\n",
    "    plt.savefig(f'{i}cond.png', bbox_inches='tight')\n",
    "    plt.show()\n",
    "   "
   ]
  },
  {
   "cell_type": "code",
   "execution_count": null,
   "id": "6945a6ed",
   "metadata": {},
   "outputs": [],
   "source": [
    "plt.figure(figsize=(8, 5))\n",
    "a=plt.plot(x,y,marker='o',mec='r',mfc='r',linestyle='--',linewidth=2,\n",
    "markersize=6,label=\"Temp Line\")\n",
    "plt.title(\"Temperature Plot With Time\",fontsize=18)\n",
    "plt.xlabel(\"Date\",fontsize=14)\n",
    "plt.ylabel(\"Temperature\",fontsize=14)\n",
    "# plt.legend(loc=4)\n",
    "plt.savefig(f'{i}.png', bbox_inches='tight')\n",
    "plt.show()"
   ]
  },
  {
   "cell_type": "code",
   "execution_count": null,
   "id": "a64f2737",
   "metadata": {},
   "outputs": [],
   "source": []
  },
  {
   "cell_type": "code",
   "execution_count": null,
   "id": "20419cef",
   "metadata": {},
   "outputs": [],
   "source": [
    "df = pd.read_csv(\"himachal pradesh last30days.csv\") \n",
    "print(df.head())\n",
    "df=df.replace('rain',1)\n",
    "df[\"preciptype\"].fillna(\"0\", inplace = True)\n",
    "print(df.head())\n",
    "print(df['preciptype'])\n",
    "df = df[[\"name\",\"datetime\",\"precip\",\"tempmax\",\"tempmin\",\"temp\",\"windspeed\",\"dew\",\"humidity\",\"windgust\",\"preciptype\",\n",
    "         \"visibility\",\"solarradiation\",\"solarenergy\",\"uvindex\",\"sunrise\",\"sunset\",\"conditions\"]]\n",
    "df.head()\n",
    "print(df.isna().sum())"
   ]
  },
  {
   "cell_type": "code",
   "execution_count": null,
   "id": "4458b2e9",
   "metadata": {},
   "outputs": [],
   "source": [
    "# col_names = ['solarradiation','solarenergy','humidity','dew']\n",
    "# df_temp_x=df.loc[:,col_names]\n",
    "# df_temp_y1=df['tempmax']\n",
    "# df_temp_y2=df['tempmin']\n",
    "# df_temp_y3=df['temp']\n",
    "# train_X,test_X,train_y,test_y=train_test_split(df_temp_x,df_temp_y1,test_size=0.2,random_state=4)\n",
    "# from sklearn.linear_model import LinearRegression\n",
    "# model = LinearRegression()\n",
    "# model.fit(train_X,train_y)\n",
    "# from sklearn.metrics import r2_score\n",
    "# r2_a_score = model.score(test_X,test_y)\n",
    "# print(r2_a_score*100,'%')\n",
    "# r2_a_score = model.score(train_X,train_y)\n",
    "# print(r2_a_score*100,'%')\n",
    "# #     print(\"For state \",i)\n",
    "# solar_rad=float(input(\"Enter today's solar radiation : \"))\n",
    "# solar_ene=float(input(\"Enter today's solar energy : \"))\n",
    "# humidity=float(input(\"Enter today's humidity : \"))\n",
    "# dew=float(input(\"Enter today's dew : \"))\n",
    "# Max_temp=model.predict([[solar_rad,solar_ene,humidity,dew]])[0]\n",
    "# print(\"Maximum Temerature of today is :\",Max_temp)\n",
    "# train_X,test_X,train_y,test_y=train_test_split(df_temp_x,df_temp_y2,test_size=0.2,random_state=4)\n",
    "# model.fit(train_X,train_y)\n",
    "# r2_a_score = model.score(test_X,test_y)\n",
    "# print(r2_a_score*100,'%')\n",
    "# r2_a_score = model.score(train_X,train_y)\n",
    "# print(r2_a_score*100,'%')\n",
    "# Min_temp=model.predict([[solar_rad,solar_ene,humidity,dew]])[0]\n",
    "# print(\"Minimum temperature of today is :\",Min_temp)\n",
    "# train_X,test_X,train_y,test_y=train_test_split(df_temp_x,df_temp_y3,test_size=0.2,random_state=4)\n",
    "# model.fit(train_X,train_y)\n",
    "# r2_a_score = model.score(test_X,test_y)\n",
    "# print(r2_a_score*100,'%')\n",
    "# r2_a_score = model.score(train_X,train_y)\n",
    "# print(r2_a_score*100,'%')\n",
    "# temp=model.predict([[solar_rad,solar_ene,humidity,dew]])[0]\n",
    "# print(\"The commonly observe temperature is : \",temp)\n",
    "# x=df.loc[27:,'datetime'].values.tolist()\n",
    "# print(x)\n",
    "# print(type(x))\n",
    "# print(type(x[0]))\n",
    "# from datetime import date\n",
    "# Today=date.today()\n",
    "# x.append(Today.strftime(\"%Y-%m-%d\"))\n",
    "# print(x)\n",
    "# y=df.loc[27:,'temp'].values.tolist()\n",
    "# print(y)\n",
    "# print(type(y))\n",
    "#     # print(type(y[0]))\n",
    "#     # print(type(float(temp)))\n",
    "# temp=float(temp)\n",
    "# print(\"The temperature is : \",temp)\n",
    "# y.append(temp)\n",
    "# print(y)\n",
    "# plt.figure(figsize=(8, 5))\n",
    "# plt.plot(x,y,marker='o',mec='r',mfc='r',linestyle='--',linewidth=2,\n",
    "#     markersize=6,label=\"Temp Line\")\n",
    "# plt.title(\"Temperature Plot With Time\",fontsize=18)\n",
    "# plt.xlabel(\"Date\",fontsize=14)\n",
    "# plt.ylabel(\"Temperature\",fontsize=14)\n",
    "#     # plt.legend(loc=4)\n",
    "# plt.show()\n",
    "# # plt.savefig('manipurtemperature.png')\n",
    "# plt.savefig(f'{i}.png', bbox_inches='tight')"
   ]
  },
  {
   "cell_type": "code",
   "execution_count": null,
   "id": "02eb9231",
   "metadata": {},
   "outputs": [],
   "source": [
    "# df=df.replace('rain',1)\n",
    "# df[\"preciptype\"].fillna(\"0\", inplace = True)\n",
    "# print(df.head())"
   ]
  },
  {
   "cell_type": "code",
   "execution_count": null,
   "id": "c685b8e5",
   "metadata": {},
   "outputs": [],
   "source": [
    "# print(df['preciptype'])"
   ]
  },
  {
   "cell_type": "code",
   "execution_count": null,
   "id": "1d4cc7ca",
   "metadata": {
    "scrolled": true
   },
   "outputs": [],
   "source": [
    "# df = df[[\"name\",\"datetime\",\"precip\",\"tempmax\",\"tempmin\",\"temp\",\"windspeed\",\"dew\",\"humidity\",\"windgust\",\"preciptype\",\n",
    "#          \"visibility\",\"solarradiation\",\"solarenergy\",\"uvindex\",\"sunrise\",\"sunset\",\"conditions\"]]\n",
    "# df.head()"
   ]
  },
  {
   "cell_type": "code",
   "execution_count": null,
   "id": "496d779a",
   "metadata": {},
   "outputs": [],
   "source": [
    "# row = df.shape[0]\n",
    "# print(row)\n",
    "# df_sunrise_x=df['datetime']\n",
    "# df_sunrise_y=df['sunrise']\n",
    "# # print(type(df_sunrise_x))\n",
    "# print(df_sunrise_x)\n",
    "# print(df_sunrise_y)"
   ]
  },
  {
   "cell_type": "code",
   "execution_count": null,
   "id": "b331986c",
   "metadata": {},
   "outputs": [],
   "source": []
  },
  {
   "cell_type": "markdown",
   "id": "d1ffb403",
   "metadata": {},
   "source": [
    "# Temperatur detection"
   ]
  },
  {
   "cell_type": "code",
   "execution_count": null,
   "id": "5bd75d52",
   "metadata": {},
   "outputs": [],
   "source": [
    "# df.head()"
   ]
  },
  {
   "cell_type": "code",
   "execution_count": null,
   "id": "7bd70349",
   "metadata": {},
   "outputs": [],
   "source": [
    "# col_names = ['solarradiation','solarenergy','humidity','dew']\n",
    "# df_temp_x=df.loc[:,col_names]\n",
    "# df_temp_y1=df['tempmax']\n",
    "# df_temp_y2=df['tempmin']\n",
    "# df_temp_y3=df['temp']"
   ]
  },
  {
   "cell_type": "code",
   "execution_count": null,
   "id": "021148aa",
   "metadata": {},
   "outputs": [],
   "source": [
    "# from sklearn.model_selection import train_test_split\n",
    "# train_X,test_X,train_y,test_y=train_test_split(df_temp_x,df_temp_y1,test_size=0.2,random_state=4)"
   ]
  },
  {
   "cell_type": "code",
   "execution_count": null,
   "id": "579916e1",
   "metadata": {},
   "outputs": [],
   "source": [
    "# from sklearn.linear_model import LinearRegression\n",
    "# model = LinearRegression()\n",
    "# model.fit(train_X,train_y)"
   ]
  },
  {
   "cell_type": "code",
   "execution_count": null,
   "id": "2abf7fe2",
   "metadata": {},
   "outputs": [],
   "source": [
    "# train_X.shape"
   ]
  },
  {
   "cell_type": "code",
   "execution_count": null,
   "id": "bb839040",
   "metadata": {},
   "outputs": [],
   "source": [
    "# train_y.shape"
   ]
  },
  {
   "cell_type": "code",
   "execution_count": null,
   "id": "f9e0f017",
   "metadata": {},
   "outputs": [],
   "source": [
    "# from sklearn.metrics import r2_score\n",
    "# r2_a_score = model.score(test_X,test_y)\n",
    "# print(r2_a_score*100,'%')"
   ]
  },
  {
   "cell_type": "code",
   "execution_count": null,
   "id": "cce38253",
   "metadata": {},
   "outputs": [],
   "source": [
    "# r2_a_score = model.score(train_X,train_y)\n",
    "# print(r2_a_score*100,'%')"
   ]
  },
  {
   "cell_type": "code",
   "execution_count": null,
   "id": "b2e83516",
   "metadata": {},
   "outputs": [],
   "source": [
    "# # 'solarradiation','solarenergy','humidity','dew'\n",
    "# solar_rad=float(input(\"Enter today's solar radiation : \"))\n",
    "# solar_ene=float(input(\"Enter today's solar energy : \"))\n",
    "# humidity=float(input(\"Enter today's humidity : \"))\n",
    "# dew=float(input(\"Enter today's dew : \"))\n",
    "# Max_temp=model.predict([[solar_rad,solar_ene,humidity,dew]])[0]\n",
    "# Max_temp"
   ]
  },
  {
   "cell_type": "code",
   "execution_count": null,
   "id": "f9e34d31",
   "metadata": {},
   "outputs": [],
   "source": [
    "# from sklearn.model_selection import train_test_split\n",
    "# train_X,test_X,train_y,test_y=train_test_split(df_temp_x,df_temp_y2,test_size=0.2,random_state=4)"
   ]
  },
  {
   "cell_type": "code",
   "execution_count": null,
   "id": "2bbd285c",
   "metadata": {},
   "outputs": [],
   "source": [
    "# from sklearn.linear_model import LinearRegression\n",
    "# model = LinearRegression()\n",
    "# model.fit(train_X,train_y)"
   ]
  },
  {
   "cell_type": "code",
   "execution_count": null,
   "id": "295b8e64",
   "metadata": {},
   "outputs": [],
   "source": [
    "# train_X.shape"
   ]
  },
  {
   "cell_type": "code",
   "execution_count": null,
   "id": "7d76dd0b",
   "metadata": {},
   "outputs": [],
   "source": [
    "# train_y.shape"
   ]
  },
  {
   "cell_type": "code",
   "execution_count": null,
   "id": "ee007d24",
   "metadata": {},
   "outputs": [],
   "source": [
    "# from sklearn.metrics import r2_score\n",
    "# r2_a_score = model.score(test_X,test_y)\n",
    "# print(r2_a_score*100,'%')"
   ]
  },
  {
   "cell_type": "code",
   "execution_count": null,
   "id": "abf2cc34",
   "metadata": {},
   "outputs": [],
   "source": [
    "# r2_a_score = model.score(train_X,train_y)\n",
    "# print(r2_a_score*100,'%')"
   ]
  },
  {
   "cell_type": "code",
   "execution_count": null,
   "id": "1609c3d3",
   "metadata": {},
   "outputs": [],
   "source": [
    "# # 'solarradiation','solarenergy','humidity','dew'\n",
    "# # solar_rad=float(input(\"Enter today's solar radiation : \"))\n",
    "# # solar_ene=float(input(\"Enter today's solar energy : \"))\n",
    "# # humidity=float(input(\"Enter today's humidity : \"))\n",
    "# # dew=float(input(\"Enter today's dew : \"))\n",
    "# Min_temp=model.predict([[solar_rad,solar_ene,humidity,dew]])[0]\n",
    "# Min_temp"
   ]
  },
  {
   "cell_type": "code",
   "execution_count": null,
   "id": "0a901eac",
   "metadata": {},
   "outputs": [],
   "source": [
    "# from sklearn.model_selection import train_test_split\n",
    "# train_X,test_X,train_y,test_y=train_test_split(df_temp_x,df_temp_y3,test_size=0.2,random_state=4)"
   ]
  },
  {
   "cell_type": "code",
   "execution_count": null,
   "id": "0ca4bb4f",
   "metadata": {},
   "outputs": [],
   "source": [
    "# from sklearn.linear_model import LinearRegression\n",
    "# model = LinearRegression()\n",
    "# model.fit(train_X,train_y)"
   ]
  },
  {
   "cell_type": "code",
   "execution_count": null,
   "id": "94c46e1d",
   "metadata": {},
   "outputs": [],
   "source": [
    "# train_X.shape"
   ]
  },
  {
   "cell_type": "code",
   "execution_count": null,
   "id": "d917d69f",
   "metadata": {},
   "outputs": [],
   "source": [
    "# train_y.shape"
   ]
  },
  {
   "cell_type": "code",
   "execution_count": null,
   "id": "77e3f437",
   "metadata": {},
   "outputs": [],
   "source": [
    "# from sklearn.metrics import r2_score\n",
    "# r2_a_score = model.score(test_X,test_y)\n",
    "# print(r2_a_score*100,'%')"
   ]
  },
  {
   "cell_type": "code",
   "execution_count": null,
   "id": "170aa9c2",
   "metadata": {},
   "outputs": [],
   "source": [
    "# r2_a_score = model.score(train_X,train_y)\n",
    "# print(r2_a_score*100,'%')"
   ]
  },
  {
   "cell_type": "code",
   "execution_count": null,
   "id": "e8f7f305",
   "metadata": {
    "scrolled": true
   },
   "outputs": [],
   "source": [
    "# # 'solarradiation','solarenergy','humidity','dew'\n",
    "# # solar_rad=float(input(\"Enter today's solar radiation : \"))\n",
    "# # solar_ene=float(input(\"Enter today's solar energy : \"))\n",
    "# # humidity=float(input(\"Enter today's humidity : \"))\n",
    "# # dew=float(input(\"Enter today's dew : \"))\n",
    "# temp=model.predict([[solar_rad,solar_ene,humidity,dew]])[0]\n",
    "# temp"
   ]
  },
  {
   "cell_type": "code",
   "execution_count": null,
   "id": "183bb54d",
   "metadata": {},
   "outputs": [],
   "source": [
    "# x=df.loc[27:,'datetime'].values.tolist()\n",
    "# print(x)\n",
    "# print(type(x))\n",
    "# print(type(x[0]))\n",
    "# from datetime import date\n",
    "# Today=date.today()\n",
    "# x.append(Today.strftime(\"%d-%m-%Y\"))\n",
    "# print(x)\n"
   ]
  },
  {
   "cell_type": "code",
   "execution_count": null,
   "id": "ed82620d",
   "metadata": {},
   "outputs": [],
   "source": [
    "# y=df.loc[27:,'temp'].values.tolist()\n",
    "# print(y)\n",
    "# print(type(y))\n",
    "# # print(type(y[0]))\n",
    "# # print(type(float(temp)))\n",
    "# temp=float(temp)\n",
    "# print(temp)\n",
    "# y.append(temp)\n",
    "# print(y)"
   ]
  },
  {
   "cell_type": "code",
   "execution_count": null,
   "id": "616dc0d5",
   "metadata": {},
   "outputs": [],
   "source": [
    "# plt.figure(figsize=(8, 5))\n",
    "# plt.plot(x,y,marker='o',mec='r',mfc='r',linestyle='--',linewidth=2,\n",
    "#          markersize=6,label=\"Temp Line\")\n",
    "# plt.title(\"Temperature Plot With Time\",fontsize=18)\n",
    "# plt.xlabel(\"Date\",fontsize=14)\n",
    "# plt.ylabel(\"Temperature\",fontsize=14)\n",
    "# # plt.legend(loc=4)\n",
    "# plt.show()\n",
    "# plt.savefig('manipurtemperature.png')"
   ]
  },
  {
   "cell_type": "code",
   "execution_count": null,
   "id": "e5db9984",
   "metadata": {},
   "outputs": [],
   "source": [
    "print(df.head())\n",
    "\n",
    "df.replace(to_replace =\"Clear\", value = 1, inplace = True)\n",
    "df.replace(to_replace =\"Partially cloudy\", value = 2, inplace = True)\n",
    "df.replace(to_replace =\"Rain, Partially cloudy\", value = 3, inplace = True)\n",
    "df.replace(to_replace =\"Rain, Overcast\", value = 4, inplace = True)\n",
    "\n",
    "print(df.head())\n",
    "col_names = ['temp','humidity','dew','windspeed','windgust']\n",
    "df_x=df.loc[:,col_names]\n",
    "df_y=df['conditions']\n",
    "from sklearn.model_selection import train_test_split\n",
    "train_X,test_X,train_y,test_y=train_test_split(df_x,df_y,test_size=0.2,random_state=4)\n",
    "from sklearn.linear_model import LinearRegression\n",
    "model = LinearRegression()\n",
    "model.fit(train_X,train_y)\n",
    "print(train_X.shape)\n",
    "print(train_y.shape)\n",
    "from sklearn.metrics import r2_score\n",
    "r2_a_score = model.score(test_X,test_y)\n",
    "print(r2_a_score*100,'%')\n",
    "r2_a_score = model.score(train_X,train_y)\n",
    "print(r2_a_score*100,'%')\n",
    "windgust=float(input('Enter the windgust : '))\n",
    "windspeed=float(input('Enter the windspeed : '))\n",
    "cond=model.predict([[temp,humidity,dew,windspeed,windgust]])[0]\n",
    "cond=round(cond)\n",
    "if(cond<1):\n",
    "    cond=1\n",
    "if(cond>4):\n",
    "    cond=4\n",
    "if(cond==1):\n",
    "    cond=\"Clear\"\n",
    "elif(cond==2):\n",
    "    cond=\"Partially cloudy\"\n",
    "elif(cond==3):    \n",
    "    cond=\"Rain, Partially cloudy\"\n",
    "else:\n",
    "    cond=\"Rain, Overcast\"\n",
    "print(cond)\n",
    "\n",
    "df.replace(to_replace =1, value = \"Clear\", inplace = True)\n",
    "df.replace(to_replace =2, value = \"Partially cloudy\", inplace = True)\n",
    "df.replace(to_replace =3, value = \"Rain, Partially cloudy\", inplace = True)\n",
    "df.replace(to_replace =4, value = \"Rain, Overcast\", inplace = True)\n",
    "y=df.loc[27:,'conditions'].values.tolist()\n",
    "print(y)\n",
    "print(type(y))\n",
    "# print(type(y[0]))\n",
    "# print(type(float(temp)))\n",
    "# temp=float(cond)\n",
    "print(cond)\n",
    "y.append(cond)\n",
    "print(y)\n",
    "plt.figure(figsize=(7, 2))\n",
    "plt.plot(x,y,marker='o',mec='r',mfc='r',linestyle='--',linewidth=2,\n",
    "         markersize=6,label=\"Temp Line\")\n",
    "plt.title(\"Condition Plot With Time\",fontsize=18)\n",
    "plt.xlabel(\"Date\",fontsize=14)\n",
    "plt.ylabel(\"Condition\",fontsize=14)\n",
    "plt.show()\n",
    "# fig.savefig('path/to/save/image/to.png')\n",
    "# plt.savefig('manipurcondition.png')\n",
    "plt.savefig(f'{i}cond.png', bbox_inches='tight')"
   ]
  },
  {
   "cell_type": "markdown",
   "id": "1b1e1a75",
   "metadata": {},
   "source": [
    "# Condition"
   ]
  },
  {
   "cell_type": "code",
   "execution_count": null,
   "id": "b837f091",
   "metadata": {},
   "outputs": [],
   "source": [
    "df.head()"
   ]
  },
  {
   "cell_type": "code",
   "execution_count": null,
   "id": "8a9a11de",
   "metadata": {},
   "outputs": [],
   "source": [
    "\n",
    "df.replace(to_replace =\"Clear\", value = 1, inplace = True)\n",
    "df.replace(to_replace =\"Partially cloudy\", value = 2, inplace = True)\n",
    "df.replace(to_replace =\"Rain, Partially cloudy\", value = 3, inplace = True)\n",
    "df.replace(to_replace =\"Rain, Overcast\", value = 4, inplace = True)\n",
    "\n",
    "df.head()"
   ]
  },
  {
   "cell_type": "code",
   "execution_count": null,
   "id": "6c421398",
   "metadata": {},
   "outputs": [],
   "source": [
    "col_names = ['temp','humidity','dew','windspeed','windgust']\n",
    "df_x=df.loc[:,col_names]\n",
    "df_y=df['conditions']\n"
   ]
  },
  {
   "cell_type": "code",
   "execution_count": null,
   "id": "b959f0a7",
   "metadata": {},
   "outputs": [],
   "source": [
    "from sklearn.model_selection import train_test_split\n",
    "train_X,test_X,train_y,test_y=train_test_split(df_x,df_y,test_size=0.2,random_state=4)"
   ]
  },
  {
   "cell_type": "code",
   "execution_count": null,
   "id": "aac62db1",
   "metadata": {},
   "outputs": [],
   "source": [
    "from sklearn.linear_model import LinearRegression\n",
    "model = LinearRegression()\n",
    "model.fit(train_X,train_y)"
   ]
  },
  {
   "cell_type": "code",
   "execution_count": null,
   "id": "57a60326",
   "metadata": {},
   "outputs": [],
   "source": [
    "train_X.shape"
   ]
  },
  {
   "cell_type": "code",
   "execution_count": null,
   "id": "28235988",
   "metadata": {},
   "outputs": [],
   "source": [
    "train_y.shape"
   ]
  },
  {
   "cell_type": "code",
   "execution_count": null,
   "id": "680c916b",
   "metadata": {},
   "outputs": [],
   "source": [
    "from sklearn.metrics import r2_score\n",
    "r2_a_score = model.score(test_X,test_y)\n",
    "print(r2_a_score*100,'%')"
   ]
  },
  {
   "cell_type": "code",
   "execution_count": null,
   "id": "7510e15f",
   "metadata": {},
   "outputs": [],
   "source": [
    "r2_a_score = model.score(train_X,train_y)\n",
    "print(r2_a_score*100,'%')"
   ]
  },
  {
   "cell_type": "code",
   "execution_count": null,
   "id": "2760bef3",
   "metadata": {},
   "outputs": [],
   "source": [
    "windgust=float(input('Enter the windgust : '))\n",
    "windspeed=float(input('Enter the windspeed : '))\n",
    "cond=model.predict([[temp,humidity,dew,windspeed,windgust]])[0]\n",
    "cond=round(cond)\n",
    "if(cond<1):\n",
    "    cond=1\n",
    "if(cond>4):\n",
    "    cond=4\n",
    "if(cond==1):\n",
    "    cond=\"Clear\"\n",
    "elif(cond==2):\n",
    "    cond=\"Partially cloudy\"\n",
    "elif(cond==3):    \n",
    "    cond=\"Rain, Partially cloudy\"\n",
    "else:\n",
    "    cond=\"Rain, Overcast\"\n",
    "cond    "
   ]
  },
  {
   "cell_type": "code",
   "execution_count": null,
   "id": "eb56547c",
   "metadata": {},
   "outputs": [],
   "source": [
    "df.replace(to_replace =1, value = \"Clear\", inplace = True)\n",
    "df.replace(to_replace =2, value = \"Partially cloudy\", inplace = True)\n",
    "df.replace(to_replace =3, value = \"Rain, Partially cloudy\", inplace = True)\n",
    "df.replace(to_replace =4, value = \"Rain, Overcast\", inplace = True)\n",
    "y=df.loc[27:,'conditions'].values.tolist()\n",
    "print(y)\n",
    "print(type(y))\n",
    "# print(type(y[0]))\n",
    "# print(type(float(temp)))\n",
    "# temp=float(cond)\n",
    "print(cond)\n",
    "y.append(cond)\n",
    "print(y)"
   ]
  },
  {
   "cell_type": "code",
   "execution_count": null,
   "id": "6a7992a1",
   "metadata": {
    "scrolled": true
   },
   "outputs": [],
   "source": [
    "plt.figure(figsize=(7, 2))\n",
    "plt.plot(x,y,marker='o',mec='r',mfc='r',linestyle='--',linewidth=2,\n",
    "         markersize=6,label=\"Temp Line\")\n",
    "plt.title(\"Condition Plot With Time\",fontsize=18)\n",
    "plt.xlabel(\"Date\",fontsize=14)\n",
    "plt.ylabel(\"Condition\",fontsize=14)\n",
    "plt.show()\n",
    "# fig.savefig('path/to/save/image/to.png')\n",
    "plt.savefig('manipurcondition.png')"
   ]
  },
  {
   "cell_type": "code",
   "execution_count": null,
   "id": "66c66b88",
   "metadata": {},
   "outputs": [],
   "source": []
  },
  {
   "cell_type": "code",
   "execution_count": null,
   "id": "a4d7dab7",
   "metadata": {},
   "outputs": [],
   "source": []
  },
  {
   "cell_type": "code",
   "execution_count": null,
   "id": "089dad88",
   "metadata": {},
   "outputs": [],
   "source": []
  },
  {
   "cell_type": "code",
   "execution_count": null,
   "id": "9cfe01b7",
   "metadata": {},
   "outputs": [],
   "source": []
  },
  {
   "cell_type": "code",
   "execution_count": null,
   "id": "5ea341ca",
   "metadata": {},
   "outputs": [],
   "source": []
  },
  {
   "cell_type": "code",
   "execution_count": null,
   "id": "4b1141a9",
   "metadata": {},
   "outputs": [],
   "source": []
  },
  {
   "cell_type": "code",
   "execution_count": null,
   "id": "9ce90fbe",
   "metadata": {},
   "outputs": [],
   "source": []
  },
  {
   "cell_type": "code",
   "execution_count": null,
   "id": "b4f49ba4",
   "metadata": {},
   "outputs": [],
   "source": []
  },
  {
   "cell_type": "code",
   "execution_count": null,
   "id": "b6121e38",
   "metadata": {},
   "outputs": [],
   "source": []
  },
  {
   "cell_type": "code",
   "execution_count": null,
   "id": "6a1cbcef",
   "metadata": {},
   "outputs": [],
   "source": []
  },
  {
   "cell_type": "code",
   "execution_count": null,
   "id": "15df7509",
   "metadata": {},
   "outputs": [],
   "source": []
  },
  {
   "cell_type": "code",
   "execution_count": null,
   "id": "be494cf0",
   "metadata": {},
   "outputs": [],
   "source": []
  },
  {
   "cell_type": "code",
   "execution_count": null,
   "id": "2c433a35",
   "metadata": {},
   "outputs": [],
   "source": []
  },
  {
   "cell_type": "code",
   "execution_count": null,
   "id": "4f3a0862",
   "metadata": {},
   "outputs": [],
   "source": []
  },
  {
   "cell_type": "code",
   "execution_count": null,
   "id": "bd7c2a5a",
   "metadata": {},
   "outputs": [],
   "source": []
  },
  {
   "cell_type": "code",
   "execution_count": null,
   "id": "6cc6e6fa",
   "metadata": {},
   "outputs": [],
   "source": []
  },
  {
   "cell_type": "code",
   "execution_count": null,
   "id": "f9e9a115",
   "metadata": {},
   "outputs": [],
   "source": []
  },
  {
   "cell_type": "code",
   "execution_count": null,
   "id": "1325da93",
   "metadata": {},
   "outputs": [],
   "source": []
  },
  {
   "cell_type": "code",
   "execution_count": null,
   "id": "f6591de7",
   "metadata": {},
   "outputs": [],
   "source": []
  },
  {
   "cell_type": "code",
   "execution_count": null,
   "id": "32d7b603",
   "metadata": {},
   "outputs": [],
   "source": []
  },
  {
   "cell_type": "code",
   "execution_count": null,
   "id": "102eb31f",
   "metadata": {},
   "outputs": [],
   "source": []
  },
  {
   "cell_type": "code",
   "execution_count": null,
   "id": "7f512386",
   "metadata": {},
   "outputs": [],
   "source": []
  },
  {
   "cell_type": "code",
   "execution_count": null,
   "id": "123a1d53",
   "metadata": {},
   "outputs": [],
   "source": []
  },
  {
   "cell_type": "code",
   "execution_count": null,
   "id": "177c01e3",
   "metadata": {},
   "outputs": [],
   "source": []
  },
  {
   "cell_type": "code",
   "execution_count": null,
   "id": "654006fa",
   "metadata": {},
   "outputs": [],
   "source": []
  },
  {
   "cell_type": "code",
   "execution_count": null,
   "id": "df66e890",
   "metadata": {},
   "outputs": [],
   "source": []
  },
  {
   "cell_type": "code",
   "execution_count": null,
   "id": "f9d1cf0b",
   "metadata": {},
   "outputs": [],
   "source": []
  },
  {
   "cell_type": "code",
   "execution_count": null,
   "id": "0ad671d1",
   "metadata": {},
   "outputs": [],
   "source": []
  },
  {
   "cell_type": "code",
   "execution_count": null,
   "id": "c8e67732",
   "metadata": {},
   "outputs": [],
   "source": []
  },
  {
   "cell_type": "code",
   "execution_count": null,
   "id": "77864bc6",
   "metadata": {},
   "outputs": [],
   "source": []
  },
  {
   "cell_type": "code",
   "execution_count": null,
   "id": "4f1b4648",
   "metadata": {},
   "outputs": [],
   "source": []
  },
  {
   "cell_type": "code",
   "execution_count": null,
   "id": "2cc4409a",
   "metadata": {},
   "outputs": [],
   "source": []
  },
  {
   "cell_type": "code",
   "execution_count": null,
   "id": "edf408b4",
   "metadata": {},
   "outputs": [],
   "source": []
  },
  {
   "cell_type": "code",
   "execution_count": null,
   "id": "da326f13",
   "metadata": {},
   "outputs": [],
   "source": []
  },
  {
   "cell_type": "code",
   "execution_count": null,
   "id": "355e193e",
   "metadata": {},
   "outputs": [],
   "source": []
  },
  {
   "cell_type": "code",
   "execution_count": null,
   "id": "69e8cdaa",
   "metadata": {},
   "outputs": [],
   "source": []
  },
  {
   "cell_type": "code",
   "execution_count": null,
   "id": "a75253e3",
   "metadata": {},
   "outputs": [],
   "source": []
  },
  {
   "cell_type": "code",
   "execution_count": null,
   "id": "16c830c2",
   "metadata": {},
   "outputs": [],
   "source": []
  },
  {
   "cell_type": "code",
   "execution_count": null,
   "id": "8fe679f0",
   "metadata": {},
   "outputs": [],
   "source": []
  },
  {
   "cell_type": "code",
   "execution_count": null,
   "id": "82c3af1a",
   "metadata": {},
   "outputs": [],
   "source": []
  },
  {
   "cell_type": "code",
   "execution_count": null,
   "id": "dc388e68",
   "metadata": {},
   "outputs": [],
   "source": []
  },
  {
   "cell_type": "code",
   "execution_count": null,
   "id": "a08529ee",
   "metadata": {},
   "outputs": [],
   "source": []
  },
  {
   "cell_type": "code",
   "execution_count": null,
   "id": "6ed69e9e",
   "metadata": {},
   "outputs": [],
   "source": []
  },
  {
   "cell_type": "code",
   "execution_count": null,
   "id": "77299520",
   "metadata": {},
   "outputs": [],
   "source": []
  },
  {
   "cell_type": "code",
   "execution_count": null,
   "id": "e093bc55",
   "metadata": {},
   "outputs": [],
   "source": []
  },
  {
   "cell_type": "code",
   "execution_count": null,
   "id": "4cee496a",
   "metadata": {},
   "outputs": [],
   "source": []
  },
  {
   "cell_type": "code",
   "execution_count": null,
   "id": "8a20fb4a",
   "metadata": {},
   "outputs": [],
   "source": []
  },
  {
   "cell_type": "code",
   "execution_count": null,
   "id": "432d422d",
   "metadata": {},
   "outputs": [],
   "source": []
  },
  {
   "cell_type": "code",
   "execution_count": null,
   "id": "bbff7645",
   "metadata": {},
   "outputs": [],
   "source": []
  },
  {
   "cell_type": "code",
   "execution_count": null,
   "id": "e5e3ed60",
   "metadata": {},
   "outputs": [],
   "source": []
  },
  {
   "cell_type": "code",
   "execution_count": null,
   "id": "11e699c3",
   "metadata": {},
   "outputs": [],
   "source": []
  },
  {
   "cell_type": "code",
   "execution_count": null,
   "id": "9b148d6f",
   "metadata": {},
   "outputs": [],
   "source": []
  },
  {
   "cell_type": "code",
   "execution_count": null,
   "id": "da27269b",
   "metadata": {},
   "outputs": [],
   "source": []
  },
  {
   "cell_type": "code",
   "execution_count": null,
   "id": "a43c192d",
   "metadata": {},
   "outputs": [],
   "source": []
  },
  {
   "cell_type": "code",
   "execution_count": null,
   "id": "74b35624",
   "metadata": {},
   "outputs": [],
   "source": []
  },
  {
   "cell_type": "code",
   "execution_count": null,
   "id": "b856a611",
   "metadata": {},
   "outputs": [],
   "source": []
  },
  {
   "cell_type": "code",
   "execution_count": null,
   "id": "ff7cdaae",
   "metadata": {},
   "outputs": [],
   "source": []
  },
  {
   "cell_type": "code",
   "execution_count": null,
   "id": "ddd0d674",
   "metadata": {},
   "outputs": [],
   "source": []
  },
  {
   "cell_type": "code",
   "execution_count": null,
   "id": "bfca6b03",
   "metadata": {},
   "outputs": [],
   "source": []
  },
  {
   "cell_type": "code",
   "execution_count": null,
   "id": "7336d1be",
   "metadata": {},
   "outputs": [],
   "source": []
  },
  {
   "cell_type": "code",
   "execution_count": null,
   "id": "b035d916",
   "metadata": {},
   "outputs": [],
   "source": []
  }
 ],
 "metadata": {
  "kernelspec": {
   "display_name": "Python 3 (ipykernel)",
   "language": "python",
   "name": "python3"
  },
  "language_info": {
   "codemirror_mode": {
    "name": "ipython",
    "version": 3
   },
   "file_extension": ".py",
   "mimetype": "text/x-python",
   "name": "python",
   "nbconvert_exporter": "python",
   "pygments_lexer": "ipython3",
   "version": "3.8.8"
  }
 },
 "nbformat": 4,
 "nbformat_minor": 5
}
